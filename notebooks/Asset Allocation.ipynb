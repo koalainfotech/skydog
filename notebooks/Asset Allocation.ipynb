{
 "cells": [
  {
   "cell_type": "markdown",
   "metadata": {},
   "source": [
    "# 稳健增长资产配置研究\n",
    "\n",
    "长期投资应该以股票为主，因为各种历史数据表明股票是长期回报最好的大类资产。但是股票的波动太高，很难长期坚持持有，因此资产配置的目的是降低整个投资组合的最大回撤，同时不牺牲太多的收益。多类资产之所以能够降低组合的波动率和最大回撤，主要是因为各类资产的价格走势不完全相关，彼此对冲了波动。和股票相关度低但是又有长期正收益的资产是理想的配置的标的。\n",
    "\n",
    "资产配置的三大要素是收益、风险和相关度。我们将在考察各类资产上述指标的基础上，构建一个风险调整后预期收益最大化的投资组合，并且将风险控制在个人风险承受能力之内。\n",
    "\n",
    "研究大纲：\n",
    "+ 主要资产类别的收益率分析\n",
    "\t- 股票\n",
    "\t- 长期国债\n",
    "\t- 黄金\n",
    "\t- REITS\n",
    "\t- 大宗商品\n",
    "\t- 比特币\n",
    "\n",
    "+ 各类资产比较分析\n",
    "\t- 各类资产风险收益比对比分析\n",
    "\t- 各类资产相关度分析"
   ]
  },
  {
   "cell_type": "code",
   "execution_count": null,
   "metadata": {},
   "outputs": [],
   "source": [
    "# import packages\n",
    "import seaborn as sns\n",
    "from matplotlib import pyplot as plt\n",
    "import yfinance as yf\n",
    "import datetime as dt\n",
    "import pandas as pd\n",
    "import pyfolio as pf\n",
    "from scipy import stats"
   ]
  },
  {
   "cell_type": "markdown",
   "metadata": {},
   "source": [
    "## 全局参数"
   ]
  },
  {
   "cell_type": "code",
   "execution_count": null,
   "metadata": {},
   "outputs": [],
   "source": [
    "#重要参数\n",
    "ticker_list=['QQQ','SPY','SPLV','MCHI','GLD','TLT','GSG','VNQ','BTC-USD','SHY','KWEB','2822.HK']\n",
    "display=['QQQ','SPLV','SPY','2822.HK','MCHI','KWEB'] # to simply chart for easier reading\n",
    "focus='QQQ' # to simply chart for correlation\n",
    "start_date=dt.date(2000,1,1)\n",
    "end_date=dt.date.today()\n",
    "recent=5*365 # period in days for stats of recent data\n",
    "horizon=10*365 # period in days for time horizon in charts\n",
    "\n",
    "ticker_list=['0700.HK','BABA','FB','1810.HK','TME']\n",
    "display=ticker_list\n",
    "focus=['0700.HK']"
   ]
  },
  {
   "cell_type": "markdown",
   "metadata": {},
   "source": [
    "## 主要资产类别的日收益率数据分析"
   ]
  },
  {
   "cell_type": "markdown",
   "metadata": {},
   "source": [
    "### 各类资产的定义\n",
    "\n",
    "本文通过各大类资产代表性的指数ETF（这也是我们最终构建组合的标的）来比较其风险与收益：\n",
    "+ 股票：\n",
    "\t- QQQ：QQQ不能代表整个股市，但却是最终我最想投资的股指ETF，因为我认为最好的公司都在纳斯达克100指数\n",
    "\t- SPY：标普500是比较典型的代表美股的指数\n",
    "\t- MCHI: 用于代表中概股，因为同时投资中美是未来一个长期策略\n",
    "\t- 2822.HK: A50指数ETF，用于代表中国大盘股\n",
    "\t- FXI: 美股大盘因子\n",
    "\t- SPLV：美股低波动因子\n",
    "+ 比特币：Yahoo Finance的比特币美元价格 BTC-USD\n",
    "+ 黄金: GLD\n",
    "+ 大宗商品: GSG\n",
    "+ 美国长期国债: TLT\n",
    "+ REITS: VNQ"
   ]
  },
  {
   "cell_type": "code",
   "execution_count": null,
   "metadata": {},
   "outputs": [],
   "source": [
    "#get price data \n",
    "\n",
    "\n",
    "df_price=pd.DataFrame()\n",
    "\n",
    "for ticker in ticker_list:\n",
    "    data=yf.download(ticker,start_date,end_date,auto_adjust=True)\n",
    "    price=data.Close\n",
    "    df_price[ticker]=price\n",
    "\n"
   ]
  },
  {
   "cell_type": "code",
   "execution_count": null,
   "metadata": {},
   "outputs": [],
   "source": [
    "#daily return stat\n",
    "df_return=df_price.pct_change()\n",
    "df_stat=pd.DataFrame()\n",
    "for ticker in ticker_list:\n",
    "\tdf_stat[ticker]=df_return[ticker].describe()\n",
    "    \n",
    "df_stat=df_stat.T\n",
    "\n",
    "df_stat['mean_annualized']=df_stat['mean']*250\n",
    "df_stat['std_annualized']=df_stat['std']*250**0.5\n",
    "df_stat\n"
   ]
  },
  {
   "cell_type": "code",
   "execution_count": null,
   "metadata": {},
   "outputs": [],
   "source": [
    "df_return_recent=df_return[end_date-dt.timedelta(days=recent):]\n",
    "df_stat_recent=df_return_recent.describe().T\n",
    "df_stat_recent['mean_annualized']=df_stat_recent['mean']*250\n",
    "df_stat_recent['std_annualized']=df_stat_recent['std']*250**0.5\n",
    "df_stat_recent"
   ]
  },
  {
   "cell_type": "markdown",
   "metadata": {},
   "source": [
    "### 单一资产的日收益率统计分析"
   ]
  },
  {
   "cell_type": "code",
   "execution_count": null,
   "metadata": {},
   "outputs": [],
   "source": [
    "asset='QQQ'\n",
    "sns.histplot(data=df_return[asset])\n",
    "plt.title('All Historical Daily Return Histgram - %i days'%(df_stat.loc[asset]['count']))\n"
   ]
  },
  {
   "cell_type": "code",
   "execution_count": null,
   "metadata": {},
   "outputs": [],
   "source": [
    "\n",
    "sns.histplot(data=df_return_recent[asset])\n",
    "plt.title('Recent Historical Daily Return Histgram - %i days'%(df_stat_recent.loc[asset]['count']))"
   ]
  },
  {
   "cell_type": "code",
   "execution_count": null,
   "metadata": {},
   "outputs": [],
   "source": [
    "pf.create_simple_tear_sheet(df_return[asset].dropna(),\n",
    "                            benchmark_rets=df_return['SPY'].dropna())"
   ]
  },
  {
   "cell_type": "markdown",
   "metadata": {},
   "source": [
    "## 各类资产历史收益率比较分析\n"
   ]
  },
  {
   "cell_type": "markdown",
   "metadata": {},
   "source": [
    "### 滚动收益率对比\n",
    "\n",
    "首先我们观察的滚动的1年收益率。"
   ]
  },
  {
   "cell_type": "code",
   "execution_count": null,
   "metadata": {},
   "outputs": [],
   "source": [
    "resample='M'\n",
    "sns.set()\n",
    "df_return_roll_actual=df_price/df_price.shift(250)-1\n",
    "df_return_roll_actual.resample(resample).last().loc[(end_date-dt.timedelta(days=horizon)):][display].plot(figsize=(12,10))\n",
    "plt.title('Historical Rolling 1 Year Return')"
   ]
  },
  {
   "cell_type": "markdown",
   "metadata": {},
   "source": [
    "下面是滚动的3年收益率。"
   ]
  },
  {
   "cell_type": "code",
   "execution_count": null,
   "metadata": {},
   "outputs": [],
   "source": [
    "resample='M'\n",
    "df_return_roll_actual=(df_price/df_price.shift(250*3))**(1/3)-1\n",
    "df_return_roll_actual.resample(resample).last().loc[(end_date-dt.timedelta(days=horizon)):][display].plot(figsize=(12,8))\n",
    "plt.title('Historical Rolling 3 Year Return - Anualized')"
   ]
  },
  {
   "cell_type": "code",
   "execution_count": null,
   "metadata": {},
   "outputs": [],
   "source": [
    "#累计收益率比较\n",
    "# https://matplotlib.org/stable/tutorials/introductory/customizing.html  rcParams\n",
    "import matplotlib.pyplot as plt\n",
    "plt.rcParams['figure.figsize'] = (15, 10) \n",
    "(df_return.dropna().drop(columns='BTC-USD')+1).cumprod().plot() #draw cum return trend lines, remove BTC-USD\n",
    "plt.title('Cummulative Return Comparision')"
   ]
  },
  {
   "cell_type": "markdown",
   "metadata": {},
   "source": [
    "### 预期收益率比较\n",
    "\n",
    "下面，通过资产的日收益的均值来观测其预期收益率的变化。\n",
    "\n",
    "下面是各类资产的全部历史数据的日收益率均值反应的预期年化收益率。"
   ]
  },
  {
   "cell_type": "code",
   "execution_count": null,
   "metadata": {},
   "outputs": [],
   "source": [
    "sns.barplot(data=df_stat.loc[display],x=df_stat.loc[display].index,y='mean_annualized')\n",
    "plt.title('Expected Return based on all historical data')"
   ]
  },
  {
   "cell_type": "code",
   "execution_count": null,
   "metadata": {},
   "outputs": [],
   "source": [
    "sns.barplot(data=df_stat_recent.loc[display],x=df_stat_recent.loc[display].index,y='mean_annualized')\n",
    "plt.title('Expected Return based on recent %i years'%(recent/365))"
   ]
  },
  {
   "cell_type": "markdown",
   "metadata": {},
   "source": [
    "### 各类资产收益/风险比分析"
   ]
  },
  {
   "cell_type": "markdown",
   "metadata": {},
   "source": [
    "下面是各类资产所有历史日收益率数据反应出的风险和收益情况对比。"
   ]
  },
  {
   "cell_type": "code",
   "execution_count": null,
   "metadata": {},
   "outputs": [],
   "source": [
    "sns.set()\n",
    "riskfree=0.01\n",
    "sns.lmplot(x='std_annualized',y='mean_annualized',data=df_stat.loc[display],ci=None,height=6,fit_reg=False)\n",
    "\n",
    "plt.title('Anuallized Retrun and Risk, based on all historical daily returns')\n",
    "#plot text\n",
    "for i in range(df_stat.loc[display].shape[0]):\n",
    "    plt.text(x=df_stat.loc[display]['std_annualized'][i]+0.003,y=df_stat.loc[display]['mean_annualized'][i]+0.003,s=df_stat.loc[display].index[i]\n",
    "          )\n",
    "plt.plot(0,riskfree,'ro')\n"
   ]
  },
  {
   "cell_type": "code",
   "execution_count": null,
   "metadata": {},
   "outputs": [],
   "source": [
    "sns.set()\n",
    "riskfree=0.01\n",
    "sns.lmplot(x='std_annualized',y='mean_annualized',data=df_stat_recent.loc[display],ci=None,height=6,fit_reg=False)\n",
    "\n",
    "plt.title('Anuallized Retrun and Risk, based on daily return of last %i years'%(recent/365))\n",
    "#plot text\n",
    "for i in range(df_stat_recent.loc[display].shape[0]):\n",
    "    plt.text(x=df_stat_recent.loc[display]['std_annualized'][i]+0.003,y=df_stat_recent.loc[display]['mean_annualized'][i]+0.003,s=df_stat_recent.loc[display].index[i]\n",
    "          )\n",
    "plt.plot(0,riskfree,'ro')\n"
   ]
  },
  {
   "cell_type": "markdown",
   "metadata": {},
   "source": [
    "### 各类资产相关度分析"
   ]
  },
  {
   "cell_type": "code",
   "execution_count": null,
   "metadata": {},
   "outputs": [],
   "source": [
    "\n",
    "def cal_rolling_cov(s1,s2,period):\n",
    "    start_date=s1.index[0]\n",
    "    cov=dict()\n",
    "    while start_date<s1.index.max()-dt.timedelta(days=period):\n",
    "        end_date=start_date+dt.timedelta(days=period)\n",
    "        a1=s1[start_date:end_date]\n",
    "        a2=s2[start_date:end_date]\n",
    "        cov[end_date]=stats.pearsonr(a1, a2)[0]\n",
    "        start_date=start_date+dt.timedelta(days=1)\n",
    "    cov=pd.Series(cov)\n",
    "    cov.name=s1.name+'-'+s2.name\n",
    "\n",
    "    return pd.Series(cov)\n"
   ]
  },
  {
   "cell_type": "code",
   "execution_count": null,
   "metadata": {},
   "outputs": [],
   "source": [
    "#90 days correlation\n",
    "df_return=df_return.dropna()\n",
    "period=90\n",
    "focus='QQQ'\n",
    "\n",
    "df_cov=pd.DataFrame()\n",
    "\n",
    "for ticker1 in ticker_list:\n",
    "    for ticker2 in ticker_list:\n",
    "        if ticker2+'_'+ticker1 in df_cov.columns:\n",
    "            df_cov[ticker1+'_'+ticker2]=df_cov[ticker2+'_'+ticker1]\n",
    "        else:\n",
    "            df_cov[ticker1+'_'+ticker2]=cal_rolling_cov(df_return[ticker1],df_return[ticker2],period)"
   ]
  },
  {
   "cell_type": "code",
   "execution_count": null,
   "metadata": {},
   "outputs": [],
   "source": [
    "\n",
    "pd.options.display.float_format = '{:,.2f}'.format\n",
    "df_cov_90d=pd.DataFrame(index=ticker_list)\n",
    "for ticker1 in ticker_list:\n",
    "    for ticker2 in ticker_list:\n",
    "        df_cov_90d.loc[ticker1,ticker2]=df_cov[ticker1+'_'+ticker2].iloc[-1]\n",
    "\n",
    "df_cov_90d\n"
   ]
  },
  {
   "cell_type": "code",
   "execution_count": null,
   "metadata": {},
   "outputs": [],
   "source": [
    "\n",
    "col=[]\n",
    "for ticker in ticker_list:\n",
    "    col.append(focus+\"_\"+ticker)\n",
    "df_cov_filtered=df_cov[col]\n",
    "plot=sns.lineplot(data=df_cov_filtered.loc[dt.date.today()-dt.timedelta(days=365):])\n",
    "plt.title('%i Days Correlation of %s and other assets'%(period,focus))"
   ]
  },
  {
   "cell_type": "code",
   "execution_count": null,
   "metadata": {},
   "outputs": [],
   "source": [
    "#365 days correlation\n",
    "period=365\n",
    "#focus='QQQ'\n",
    "df_return=df_price.resample('1M').last().pct_change().dropna()\n",
    "df_cov=pd.DataFrame()\n",
    "\n",
    "for ticker1 in ticker_list:\n",
    "    for ticker2 in ticker_list:\n",
    "        df_cov[ticker1+'_'+ticker2]=cal_rolling_cov(df_return[ticker1],df_return[ticker2],period)\n"
   ]
  },
  {
   "cell_type": "code",
   "execution_count": null,
   "metadata": {},
   "outputs": [],
   "source": [
    "\n",
    "df_cov_365d=pd.DataFrame(index=ticker_list)\n",
    "for ticker1 in ticker_list:\n",
    "    for ticker2 in ticker_list:\n",
    "        df_cov_365d.loc[ticker1,ticker2]=df_cov[ticker1+'_'+ticker2].iloc[-1]\n",
    "\n",
    "df_cov_365d"
   ]
  },
  {
   "cell_type": "code",
   "execution_count": null,
   "metadata": {},
   "outputs": [],
   "source": [
    "col=[]\n",
    "for ticker in ticker_list:\n",
    "    col.append(focus+\"_\"+ticker)\n",
    "df_cov_filtered=df_cov[col]\n",
    "plot=sns.lineplot(data=df_cov_filtered.loc[dt.date.today()-dt.timedelta(days=365*10):])\n",
    "plt.title('%i Days Correlation'%(period))"
   ]
  }
 ],
 "metadata": {
  "interpreter": {
   "hash": "3ff3a0fb59a3755e856ce5d3e173bbdf04919afeeff503ae655d3dc19401341d"
  },
  "kernelspec": {
   "display_name": "Python 3",
   "language": "python",
   "name": "python3"
  },
  "language_info": {
   "codemirror_mode": {
    "name": "ipython",
    "version": 3
   },
   "file_extension": ".py",
   "mimetype": "text/x-python",
   "name": "python",
   "nbconvert_exporter": "python",
   "pygments_lexer": "ipython3",
   "version": "3.8.8"
  }
 },
 "nbformat": 4,
 "nbformat_minor": 2
}
