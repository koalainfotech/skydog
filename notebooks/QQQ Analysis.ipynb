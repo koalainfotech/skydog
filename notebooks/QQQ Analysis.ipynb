{
 "cells": [
  {
   "cell_type": "markdown",
   "metadata": {},
   "source": [
    " # QQQ数据分析"
   ]
  },
  {
   "cell_type": "markdown",
   "metadata": {},
   "source": [
    "本笔记分析QQQ的数据以回答以下问题：\n",
    "1. QQQ当前的估值是否合理？\n",
    "2. QQQ的中短期趋势如何？"
   ]
  },
  {
   "cell_type": "code",
   "execution_count": 79,
   "metadata": {},
   "outputs": [],
   "source": [
    "#imports\n",
    "\n",
    "import yfinance as yf\n",
    "import pandas as pd\n",
    "import datetime as dt\n",
    "\n",
    "pd.options.display.float_format = '{:,.2f}'.format"
   ]
  },
  {
   "cell_type": "code",
   "execution_count": 61,
   "metadata": {},
   "outputs": [],
   "source": [
    "# get data\n",
    "\n",
    "# get a list of QQQ member\n",
    "\n",
    "#获取纳斯达克100成分\n",
    "table=pd.read_html('https://en.wikipedia.org/wiki/Nasdaq-100')\n",
    "df_holding = table[3]\n",
    "df_holding.to_csv(\"data\\share\\nasdaq100.csv\")\n"
   ]
  },
  {
   "cell_type": "code",
   "execution_count": null,
   "metadata": {},
   "outputs": [],
   "source": [
    "def get_stock_info(ticker):\n",
    "    stock_info={}\n",
    "    df=yf.download(ticker,start=dt.date.today()-dt.timedelta(days=366),auto_adjust=True,progress=False)\n",
    "    stock_info=yf.Ticker(ticker).info\n",
    "    stock_info['1w_chg_pct']=100*(df.loc[max(df.index)-dt.timedelta(weeks=1):,'Close'][-1]/df.loc[max(df.index)-dt.timedelta(weeks=1):,'Close'][0]-1)\n",
    "    stock_info['1m_chg_pct']=100*(df.loc[max(df.index)-dt.timedelta(days=30):,'Close'][-1]/df.loc[max(df.index)-dt.timedelta(days=30):,'Close'][0]-1)\n",
    "    stock_info['1y_chg_pct']=100*(df.loc[max(df.index)-dt.timedelta(days=365):,'Close'][-1]/df.loc[max(df.index)-dt.timedelta(days=365):,'Close'][0]-1)\n",
    "    stock_info['max_drawdown']=100*(df.Close[-1]/max(df.Close)-1)\n",
    "    stock_info['ticker']=ticker\n",
    "    return stock_info\n",
    "\n",
    "df_stock=pd.DataFrame()\n",
    "for ticker in df_holding.Ticker:\n",
    "    try:\n",
    "        stock_info=get_stock_info(ticker)\n",
    "        df_stock=df_stock.append(stock_info,ignore_index=True)\n",
    "    except:\n",
    "        pass\n",
    "\n",
    "df_stock['ratecode']=df_stock['financialCurrency']+'-'+df_stock['currency']\n",
    "df_stock['ratecode']\n",
    "df_stock['USD-USD']=1\n",
    "df_stock['CNY-USD']=0.16\n",
    "df_stock['TWD-USD']=0.036\n",
    "df_stock['CNY-HKD']=1.22\n",
    "df_stock['EUR-USD']=1.13\n",
    "df_stock['rate']=df_stock['USD-USD'].where(df_stock['ratecode']=='USD-USD')\n",
    "df_stock.loc[df_stock['rate'].isna(),['rate']]=df_stock['CNY-USD'].where(df_stock['ratecode']=='CNY-USD')\n",
    "df_stock.loc[df_stock['rate'].isna(),['rate']]=df_stock['TWD-USD'].where(df_stock['ratecode']=='TWD-USD')\n",
    "df_stock.loc[df_stock['rate'].isna(),['rate']]=df_stock['EUR-USD'].where(df_stock['ratecode']=='EUR-USD')\n",
    "df_stock.loc[df_stock['rate'].isna(),['rate']]=df_stock['CNY-HKD'].where(df_stock['ratecode']=='CNY-HKD')\n",
    "#df_stock[['ticker','currency','financialCurrency','rate']]"
   ]
  },
  {
   "cell_type": "code",
   "execution_count": 6,
   "metadata": {},
   "outputs": [],
   "source": [
    "df_stock.to_csv('../data/share/qqq_data.csv')"
   ]
  },
  {
   "cell_type": "code",
   "execution_count": 37,
   "metadata": {},
   "outputs": [],
   "source": [
    "df_stock.drop(df_stock[df_stock['ticker']=='GOOGL'].index,inplace=True)"
   ]
  },
  {
   "cell_type": "markdown",
   "metadata": {},
   "source": [
    "## QQQ 估值指标监测"
   ]
  },
  {
   "cell_type": "code",
   "execution_count": 69,
   "metadata": {},
   "outputs": [],
   "source": [
    "df_metric=pd.DataFrame()\n",
    "df_metric['ticker']=df_stock['ticker']\n",
    "df_metric['market_cap']=df_stock['marketCap']\n",
    "df_metric['revenue']=df_stock['totalRevenue']*df_stock['rate']\n",
    "df_metric['revenue_growth']=df_stock['revenueGrowth']\n",
    "df_metric['cashflow']=df_stock['operatingCashflow']*df_stock['rate']\n",
    "df_metric['net_income']=df_stock['netIncomeToCommon']*df_stock['rate']\n",
    "df_metric['gross_profit']=df_stock['grossProfits']*df_stock['rate']\n",
    "total_market_cap=df_stock['marketCap'].sum()\n",
    "df_metric['weight']=df_metric['market_cap']/total_market_cap"
   ]
  },
  {
   "cell_type": "code",
   "execution_count": 96,
   "metadata": {},
   "outputs": [],
   "source": [
    "etf_stat=dict()\n",
    "etf_stat['market_cap']=(df_metric['market_cap']*df_metric['weight']).sum()\n",
    "etf_stat['revenue']=(df_metric['revenue']*df_metric['weight']).sum()\n",
    "etf_stat['revenue_growth']=((df_metric['revenue']-df_metric['revenue']/(1+df_metric['revenue_growth']))*df_metric['weight']).sum()/etf_stat['revenue']\n",
    "etf_stat['ps']=etf_stat['market_cap']/etf_stat['revenue']\n",
    "etf_stat['gross_profit']=(df_metric['gross_profit']*df_metric['weight']).sum()\n",
    "etf_stat['pgp']=etf_stat['market_cap']/etf_stat['gross_profit']\n",
    "etf_stat['gross_margin']=100*etf_stat['gross_profit']/etf_stat['revenue']\n",
    "etf_stat['cashflow']=(df_metric['cashflow']*df_metric['weight']).sum()\n",
    "etf_stat['pcf']=etf_stat['market_cap']/etf_stat['cashflow']\n",
    "etf_stat['cf_rate']=100/etf_stat['pcf']\n",
    "etf_stat['cf_margin']=100*etf_stat['cashflow']/etf_stat['revenue']\n",
    "etf_stat['net_income']=(df_metric['net_income']*df_metric['weight']).sum()\n",
    "etf_stat['pe']=etf_stat['market_cap']/etf_stat['net_income']\n",
    "etf_stat['income_rate']=100/etf_stat['pe']\n",
    "etf_stat['profit_margin']=100*etf_stat['net_income']/etf_stat['revenue']\n",
    "\n"
   ]
  },
  {
   "cell_type": "code",
   "execution_count": 97,
   "metadata": {},
   "outputs": [],
   "source": [
    "etf={key:etf_stat[key] for key in ['revenue_growth','ps','pgp','gross_margin','pcf','cf_rate','cf_margin','pe','income_rate','profit_margin']}"
   ]
  },
  {
   "cell_type": "code",
   "execution_count": 98,
   "metadata": {},
   "outputs": [],
   "source": [
    "df_etf_stat=pd.DataFrame.from_dict(etf,orient='index',columns=['QQQ'])"
   ]
  },
  {
   "cell_type": "code",
   "execution_count": 99,
   "metadata": {},
   "outputs": [
    {
     "data": {
      "text/html": [
       "<div>\n",
       "<style scoped>\n",
       "    .dataframe tbody tr th:only-of-type {\n",
       "        vertical-align: middle;\n",
       "    }\n",
       "\n",
       "    .dataframe tbody tr th {\n",
       "        vertical-align: top;\n",
       "    }\n",
       "\n",
       "    .dataframe thead th {\n",
       "        text-align: right;\n",
       "    }\n",
       "</style>\n",
       "<table border=\"1\" class=\"dataframe\">\n",
       "  <thead>\n",
       "    <tr style=\"text-align: right;\">\n",
       "      <th></th>\n",
       "      <th>QQQ</th>\n",
       "    </tr>\n",
       "  </thead>\n",
       "  <tbody>\n",
       "    <tr>\n",
       "      <th>revenue_growth</th>\n",
       "      <td>0.22</td>\n",
       "    </tr>\n",
       "    <tr>\n",
       "      <th>ps</th>\n",
       "      <td>7.87</td>\n",
       "    </tr>\n",
       "    <tr>\n",
       "      <th>pgp</th>\n",
       "      <td>18.11</td>\n",
       "    </tr>\n",
       "    <tr>\n",
       "      <th>gross_margin</th>\n",
       "      <td>43.48</td>\n",
       "    </tr>\n",
       "    <tr>\n",
       "      <th>pcf</th>\n",
       "      <td>27.60</td>\n",
       "    </tr>\n",
       "    <tr>\n",
       "      <th>cf_rate</th>\n",
       "      <td>3.62</td>\n",
       "    </tr>\n",
       "    <tr>\n",
       "      <th>cf_margin</th>\n",
       "      <td>28.54</td>\n",
       "    </tr>\n",
       "    <tr>\n",
       "      <th>pe</th>\n",
       "      <td>34.79</td>\n",
       "    </tr>\n",
       "    <tr>\n",
       "      <th>income_rate</th>\n",
       "      <td>2.87</td>\n",
       "    </tr>\n",
       "    <tr>\n",
       "      <th>profit_margin</th>\n",
       "      <td>22.64</td>\n",
       "    </tr>\n",
       "  </tbody>\n",
       "</table>\n",
       "</div>"
      ],
      "text/plain": [
       "                 QQQ\n",
       "revenue_growth  0.22\n",
       "ps              7.87\n",
       "pgp            18.11\n",
       "gross_margin   43.48\n",
       "pcf            27.60\n",
       "cf_rate         3.62\n",
       "cf_margin      28.54\n",
       "pe             34.79\n",
       "income_rate     2.87\n",
       "profit_margin  22.64"
      ]
     },
     "execution_count": 99,
     "metadata": {},
     "output_type": "execute_result"
    }
   ],
   "source": [
    "df_etf_stat"
   ]
  }
 ],
 "metadata": {
  "interpreter": {
   "hash": "2f70558250b2e09fb5bea9e4d53bfa1a2acfe2c395591f6a67d17254408a49b5"
  },
  "kernelspec": {
   "display_name": "Python 3.9.7 64-bit ('skydog': conda)",
   "language": "python",
   "name": "python3"
  },
  "language_info": {
   "codemirror_mode": {
    "name": "ipython",
    "version": 3
   },
   "file_extension": ".py",
   "mimetype": "text/x-python",
   "name": "python",
   "nbconvert_exporter": "python",
   "pygments_lexer": "ipython3",
   "version": "3.9.7"
  },
  "orig_nbformat": 4
 },
 "nbformat": 4,
 "nbformat_minor": 2
}
