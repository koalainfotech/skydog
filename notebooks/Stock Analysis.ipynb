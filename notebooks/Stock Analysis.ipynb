{
 "cells": [
  {
   "cell_type": "code",
   "execution_count": 1,
   "metadata": {},
   "outputs": [],
   "source": [
    "import yfinance as yf\n",
    "import pandas as pd\n",
    "import datetime as dt\n",
    "import seaborn as sns"
   ]
  },
  {
   "cell_type": "markdown",
   "metadata": {},
   "source": [
    "# 个股研究\n",
    "\n",
    "本笔记分析个股的重要数据。"
   ]
  },
  {
   "cell_type": "code",
   "execution_count": 6,
   "metadata": {},
   "outputs": [],
   "source": [
    "ticker='BABA'"
   ]
  },
  {
   "cell_type": "code",
   "execution_count": 7,
   "metadata": {},
   "outputs": [],
   "source": [
    "yfticker=yf.Ticker(ticker)\n",
    "stock_info=yfticker.info\n",
    "stcok_price_w=yfticker.history(start=dt.date(2000,1,1),interval='1wk',auto_adjust=True)\n",
    "benchmark_w=yf.Ticker('SPY').history(start=min(stcok_price_w.index),interval='1wk',auto_adjust=True)"
   ]
  },
  {
   "cell_type": "code",
   "execution_count": 8,
   "metadata": {},
   "outputs": [
    {
     "data": {
      "text/plain": [
       "{'zip': '311121',\n",
       " 'sector': 'Consumer Cyclical',\n",
       " 'fullTimeEmployees': 258578,\n",
       " 'longBusinessSummary': \"Alibaba Group Holding Limited, through its subsidiaries, provides technology infrastructure and marketing reach to merchants, brands, retailers, and other businesses to engage with their users and customers in the People's Republic of China and internationally. It operates through four segments: Core Commerce, Cloud Computing, Digital Media and Entertainment, and Innovation Initiatives and Others. The company operates Taobao Marketplace, a social commerce platform; Tmall, a third-party online and mobile commerce platform for brands and retailers; Alimama, a monetization platform; 1688.com and Alibaba.com, which are online wholesale marketplaces; AliExpress, a retail marketplace; Lazada, Trendyol, and Daraz that are e-commerce platforms; and Tmall Global and Kaola, which are import e-commerce platforms. It also operates Lingshoutong that connects FMCG manufacturers and their distributors to small retailers; Cainiao Network logistic services platform; Ele.me, an on-demand delivery and local services platform; Koubei, a restaurant and local services guide platform; and Fliggy, an online travel platform. In addition, the company offers pay-for-performance, in-feed, and display marketing services; and Taobao Ad Network and Exchange, a real-time online bidding marketing exchange. Further, it provides elastic computing, database, storage, virtualization network, large-scale computing, security, management and application, big data analytics, machine learning platform, and Internet of Things services. Additionally, the company operates Youku, an online video platform; Alibaba Pictures and other content platforms that provide online videos, films, live events, news feeds, literature, music, and others; Amap, a mobile digital map, navigation, and real-time traffic information app; DingTalk, a business efficiency app; and Tmall Genie, an AI-enabled smart speaker. The company was incorporated in 1999 and is based in Hangzhou, the People's Republic of China.\",\n",
       " 'city': 'Hangzhou',\n",
       " 'phone': '86 571 8502 2088',\n",
       " 'country': 'China',\n",
       " 'companyOfficers': [],\n",
       " 'website': 'https://www.alibabagroup.com',\n",
       " 'maxAge': 1,\n",
       " 'address1': '969 West Wen Yi Road',\n",
       " 'fax': '86 571 8526 9066',\n",
       " 'industry': 'Internet Retail',\n",
       " 'address2': 'Yu Hang District',\n",
       " 'ebitdaMargins': 0.19149,\n",
       " 'profitMargins': 0.15305,\n",
       " 'grossMargins': 0.38781,\n",
       " 'operatingCashflow': 196824006656,\n",
       " 'revenueGrowth': 0.294,\n",
       " 'operatingMargins': 0.13144,\n",
       " 'ebitda': 156045000704,\n",
       " 'targetLowPrice': 129.78,\n",
       " 'recommendationKey': 'buy',\n",
       " 'grossProfits': 297772000000,\n",
       " 'freeCashflow': 150922248192,\n",
       " 'targetMedianPrice': 199.66,\n",
       " 'currentPrice': 118.66,\n",
       " 'earningsGrowth': -0.812,\n",
       " 'currentRatio': 1.645,\n",
       " 'returnOnAssets': 0.042379998,\n",
       " 'numberOfAnalystOpinions': 51,\n",
       " 'targetMeanPrice': 209.51,\n",
       " 'debtToEquity': 16.682,\n",
       " 'returnOnEquity': 0.11253,\n",
       " 'targetHighPrice': 314.47,\n",
       " 'totalCash': 459204984832,\n",
       " 'totalDebt': 183158996992,\n",
       " 'totalRevenue': 814909030400,\n",
       " 'totalCashPerShare': 170.376,\n",
       " 'financialCurrency': 'CNY',\n",
       " 'revenuePerShare': 301.086,\n",
       " 'quickRatio': 1.184,\n",
       " 'recommendationMean': 2,\n",
       " 'exchange': 'NYQ',\n",
       " 'shortName': 'Alibaba Group Holding Limited',\n",
       " 'longName': 'Alibaba Group Holding Limited',\n",
       " 'exchangeTimezoneName': 'America/New_York',\n",
       " 'exchangeTimezoneShortName': 'EST',\n",
       " 'isEsgPopulated': False,\n",
       " 'gmtOffSetMilliseconds': '-18000000',\n",
       " 'quoteType': 'EQUITY',\n",
       " 'symbol': 'BABA',\n",
       " 'messageBoardId': 'finmb_42083601',\n",
       " 'market': 'us_market',\n",
       " 'annualHoldingsTurnover': None,\n",
       " 'enterpriseToRevenue': 0.219,\n",
       " 'beta3Year': None,\n",
       " 'enterpriseToEbitda': 1.146,\n",
       " '52WeekChange': -0.46636087,\n",
       " 'morningStarRiskRating': None,\n",
       " 'forwardEps': 9.65,\n",
       " 'revenueQuarterlyGrowth': None,\n",
       " 'sharesOutstanding': 2710909952,\n",
       " 'fundInceptionDate': None,\n",
       " 'annualReportExpenseRatio': None,\n",
       " 'totalAssets': None,\n",
       " 'bookValue': 357.23,\n",
       " 'sharesShort': 48144844,\n",
       " 'sharesPercentSharesOut': 0.0178,\n",
       " 'fundFamily': None,\n",
       " 'lastFiscalYearEnd': 1617148800,\n",
       " 'heldPercentInstitutions': 0.23975,\n",
       " 'netIncomeToCommon': 124456001536,\n",
       " 'trailingEps': 7.102,\n",
       " 'lastDividendValue': None,\n",
       " 'SandP52WeekChange': 0.26514983,\n",
       " 'priceToBook': 0.33216694,\n",
       " 'heldPercentInsiders': 0.2622,\n",
       " 'nextFiscalYearEnd': 1680220800,\n",
       " 'yield': None,\n",
       " 'mostRecentQuarter': 1632960000,\n",
       " 'shortRatio': 2.33,\n",
       " 'sharesShortPreviousMonthDate': 1635465600,\n",
       " 'floatShares': 1919934385,\n",
       " 'beta': 0.92,\n",
       " 'enterpriseValue': 178871369728,\n",
       " 'priceHint': 2,\n",
       " 'threeYearAverageReturn': None,\n",
       " 'lastSplitDate': None,\n",
       " 'lastSplitFactor': None,\n",
       " 'legalType': None,\n",
       " 'lastDividendDate': None,\n",
       " 'morningStarOverallRating': None,\n",
       " 'earningsQuarterlyGrowth': -0.81,\n",
       " 'priceToSalesTrailing12Months': 0.39473924,\n",
       " 'dateShortInterest': 1638230400,\n",
       " 'pegRatio': 84.58,\n",
       " 'ytdReturn': None,\n",
       " 'forwardPE': 12.296374,\n",
       " 'lastCapGain': None,\n",
       " 'shortPercentOfFloat': None,\n",
       " 'sharesShortPriorMonth': 47045938,\n",
       " 'impliedSharesOutstanding': None,\n",
       " 'category': None,\n",
       " 'fiveYearAverageReturn': None,\n",
       " 'previousClose': 117.81,\n",
       " 'regularMarketOpen': 116.8,\n",
       " 'twoHundredDayAverage': 188.0851,\n",
       " 'trailingAnnualDividendYield': None,\n",
       " 'payoutRatio': 0,\n",
       " 'volume24Hr': None,\n",
       " 'regularMarketDayHigh': 119.59,\n",
       " 'navPrice': None,\n",
       " 'averageDailyVolume10Day': 19961840,\n",
       " 'regularMarketPreviousClose': 117.81,\n",
       " 'fiftyDayAverage': 147.0468,\n",
       " 'trailingAnnualDividendRate': None,\n",
       " 'open': 116.8,\n",
       " 'toCurrency': None,\n",
       " 'averageVolume10days': 19961840,\n",
       " 'expireDate': None,\n",
       " 'algorithm': None,\n",
       " 'dividendRate': None,\n",
       " 'exDividendDate': None,\n",
       " 'circulatingSupply': None,\n",
       " 'startDate': None,\n",
       " 'regularMarketDayLow': 115.39,\n",
       " 'currency': 'USD',\n",
       " 'trailingPE': 16.70797,\n",
       " 'regularMarketVolume': 17563254,\n",
       " 'lastMarket': None,\n",
       " 'maxSupply': None,\n",
       " 'openInterest': None,\n",
       " 'marketCap': 321676574720,\n",
       " 'volumeAllCurrencies': None,\n",
       " 'strikePrice': None,\n",
       " 'averageVolume': 22995322,\n",
       " 'dayLow': 115.39,\n",
       " 'ask': 118.8,\n",
       " 'askSize': 900,\n",
       " 'volume': 17563254,\n",
       " 'fiftyTwoWeekHigh': 274.29,\n",
       " 'fromCurrency': None,\n",
       " 'fiveYearAvgDividendYield': None,\n",
       " 'fiftyTwoWeekLow': 108.7,\n",
       " 'bid': 118.74,\n",
       " 'tradeable': False,\n",
       " 'dividendYield': None,\n",
       " 'bidSize': 900,\n",
       " 'dayHigh': 119.59,\n",
       " 'regularMarketPrice': 118.66,\n",
       " 'preMarketPrice': None,\n",
       " 'logo_url': 'https://logo.clearbit.com/alibabagroup.com'}"
      ]
     },
     "execution_count": 8,
     "metadata": {},
     "output_type": "execute_result"
    }
   ],
   "source": [
    "stock_info"
   ]
  },
  {
   "cell_type": "markdown",
   "metadata": {},
   "source": []
  },
  {
   "cell_type": "markdown",
   "metadata": {},
   "source": [
    "# 股价与收益率分析"
   ]
  },
  {
   "cell_type": "markdown",
   "metadata": {},
   "source": [
    "## 股价走势"
   ]
  },
  {
   "cell_type": "code",
   "execution_count": 5,
   "metadata": {},
   "outputs": [
    {
     "data": {
      "text/plain": [
       "<AxesSubplot:xlabel='Date'>"
      ]
     },
     "execution_count": 5,
     "metadata": {},
     "output_type": "execute_result"
    },
    {
     "data": {
      "image/png": "[encoded data removed]",
      "text/plain": [
       "<Figure size 432x288 with 1 Axes>"
      ]
     },
     "metadata": {},
     "output_type": "display_data"
    }
   ],
   "source": [
    "sns.set()\n",
    "stcok_price_w['Close'].pct_change().plot()\n",
    "benchmark_w['Close'].pct_change().plot()"
   ]
  },
  {
   "cell_type": "markdown",
   "metadata": {},
   "source": []
  }
 ],
 "metadata": {
  "interpreter": {
   "hash": "2f70558250b2e09fb5bea9e4d53bfa1a2acfe2c395591f6a67d17254408a49b5"
  },
  "kernelspec": {
   "display_name": "Python 3.9.7 64-bit ('skydog': conda)",
   "language": "python",
   "name": "python3"
  },
  "language_info": {
   "codemirror_mode": {
    "name": "ipython",
    "version": 3
   },
   "file_extension": ".py",
   "mimetype": "text/x-python",
   "name": "python",
   "nbconvert_exporter": "python",
   "pygments_lexer": "ipython3",
   "version": "3.9.7"
  },
  "orig_nbformat": 4
 },
 "nbformat": 4,
 "nbformat_minor": 2
}
