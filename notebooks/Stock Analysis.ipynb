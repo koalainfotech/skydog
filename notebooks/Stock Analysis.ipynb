{
 "cells": [
  {
   "cell_type": "code",
   "execution_count": 11,
   "metadata": {},
   "outputs": [],
   "source": [
    "import yfinance as yf\n",
    "import pandas as pd\n",
    "import datetime as dt\n",
    "import seaborn as sns"
   ]
  },
  {
   "cell_type": "markdown",
   "metadata": {},
   "source": [
    "# 个股研究\n",
    "\n",
    "本笔记分析个股的重要数据。"
   ]
  },
  {
   "cell_type": "code",
   "execution_count": 2,
   "metadata": {},
   "outputs": [],
   "source": [
    "ticker='FB'"
   ]
  },
  {
   "cell_type": "code",
   "execution_count": 15,
   "metadata": {},
   "outputs": [],
   "source": [
    "yfticker=yf.Ticker(ticker)\n",
    "stock_info=yfticker.info\n",
    "stcok_price_w=yfticker.history(start=dt.date(2000,1,1),interval='1wk',auto_adjust=True)\n",
    "benchmark_w=yf.Ticker('SPY').history(start=min(stcok_price_w.index),interval='1wk',auto_adjust=True)"
   ]
  },
  {
   "cell_type": "code",
   "execution_count": 5,
   "metadata": {},
   "outputs": [
    {
     "data": {
      "text/plain": [
       "{'zip': '94025',\n",
       " 'sector': 'Communication Services',\n",
       " 'fullTimeEmployees': 68177,\n",
       " 'longBusinessSummary': \"Meta Platforms, Inc. develops products that enable people to connect and share with friends and family through mobile devices, personal computers, virtual reality headsets, and in-home devices worldwide. It operates in two segments, Family of Apps and Facebook Reality Labs. The Family of Apps segment's products include Facebook, which enables people to connect, share, discover, and communicate with each other on mobile devices and personal computers; Instagram, a community for sharing photos, videos, and private messages; Messenger, a messaging application for people to connect with friends, family, groups, and businesses across platforms and devices; and WhatsApp, a messaging application that is used by people and businesses to communicate in a private way, as well as other services. The Facebook Reality Labs segment provides augmented and virtual reality related consumer hardware, software, and content that help people feel connected, anytime, and anywhere. The company was formerly known as Facebook, Inc. and changed its name to Meta Platforms, Inc. in October 2021. Meta Platforms, Inc. was founded in 2004 and is headquartered in Menlo Park, California.\",\n",
       " 'city': 'Menlo Park',\n",
       " 'phone': '650 543 4800',\n",
       " 'state': 'CA',\n",
       " 'country': 'United States',\n",
       " 'companyOfficers': [],\n",
       " 'website': 'https://investor.fb.com',\n",
       " 'maxAge': 1,\n",
       " 'address1': '1601 Willow Road',\n",
       " 'industry': 'Internet Content & Information',\n",
       " 'ebitdaMargins': 0.48748,\n",
       " 'profitMargins': 0.35880002,\n",
       " 'grossMargins': 0.8085,\n",
       " 'operatingCashflow': 53618999296,\n",
       " 'revenueGrowth': 0.351,\n",
       " 'operatingMargins': 0.4179,\n",
       " 'ebitda': 54758998016,\n",
       " 'targetLowPrice': 250,\n",
       " 'recommendationKey': 'buy',\n",
       " 'grossProfits': 69273000000,\n",
       " 'freeCashflow': 26465374208,\n",
       " 'targetMedianPrice': 410,\n",
       " 'currentPrice': 333.79,\n",
       " 'earningsGrowth': 0.188,\n",
       " 'currentRatio': 4.234,\n",
       " 'returnOnAssets': 0.18568,\n",
       " 'numberOfAnalystOpinions': 52,\n",
       " 'targetMeanPrice': 401.78,\n",
       " 'debtToEquity': 9.912,\n",
       " 'returnOnEquity': 0.32103002,\n",
       " 'targetHighPrice': 466,\n",
       " 'totalCash': 58075000832,\n",
       " 'totalDebt': 13219000320,\n",
       " 'totalRevenue': 112329998336,\n",
       " 'totalCashPerShare': 20.877,\n",
       " 'financialCurrency': 'USD',\n",
       " 'revenuePerShare': 39.588,\n",
       " 'quickRatio': 3.939,\n",
       " 'recommendationMean': 1.9,\n",
       " 'exchange': 'NMS',\n",
       " 'shortName': 'Meta Platforms, Inc.',\n",
       " 'longName': 'Meta Platforms, Inc.',\n",
       " 'exchangeTimezoneName': 'America/New_York',\n",
       " 'exchangeTimezoneShortName': 'EST',\n",
       " 'isEsgPopulated': False,\n",
       " 'gmtOffSetMilliseconds': '-18000000',\n",
       " 'quoteType': 'EQUITY',\n",
       " 'symbol': 'FB',\n",
       " 'messageBoardId': 'finmb_20765463',\n",
       " 'market': 'us_market',\n",
       " 'annualHoldingsTurnover': None,\n",
       " 'enterpriseToRevenue': 7.867,\n",
       " 'beta3Year': None,\n",
       " 'enterpriseToEbitda': 16.137,\n",
       " '52WeekChange': 0.22361529,\n",
       " 'morningStarRiskRating': None,\n",
       " 'forwardEps': 14.26,\n",
       " 'revenueQuarterlyGrowth': None,\n",
       " 'sharesOutstanding': 2366279936,\n",
       " 'fundInceptionDate': None,\n",
       " 'annualReportExpenseRatio': None,\n",
       " 'totalAssets': None,\n",
       " 'bookValue': 47.748,\n",
       " 'sharesShort': 25262598,\n",
       " 'sharesPercentSharesOut': 0.0091,\n",
       " 'fundFamily': None,\n",
       " 'lastFiscalYearEnd': 1609372800,\n",
       " 'heldPercentInstitutions': 0.80047995,\n",
       " 'netIncomeToCommon': 40304001024,\n",
       " 'trailingEps': 13.974,\n",
       " 'lastDividendValue': None,\n",
       " 'SandP52WeekChange': 0.2505386,\n",
       " 'priceToBook': 6.990659,\n",
       " 'heldPercentInsiders': 0.00597,\n",
       " 'nextFiscalYearEnd': 1672444800,\n",
       " 'yield': None,\n",
       " 'mostRecentQuarter': 1632960000,\n",
       " 'shortRatio': 1.2,\n",
       " 'sharesShortPreviousMonthDate': 1635465600,\n",
       " 'floatShares': 2350558973,\n",
       " 'beta': 1.290909,\n",
       " 'enterpriseValue': 883667501056,\n",
       " 'priceHint': 2,\n",
       " 'threeYearAverageReturn': None,\n",
       " 'lastSplitDate': None,\n",
       " 'lastSplitFactor': None,\n",
       " 'legalType': None,\n",
       " 'lastDividendDate': None,\n",
       " 'morningStarOverallRating': None,\n",
       " 'earningsQuarterlyGrowth': 0.172,\n",
       " 'priceToSalesTrailing12Months': 8.266035,\n",
       " 'dateShortInterest': 1638230400,\n",
       " 'pegRatio': 1.13,\n",
       " 'ytdReturn': None,\n",
       " 'forwardPE': 23.407434,\n",
       " 'lastCapGain': None,\n",
       " 'shortPercentOfFloat': 0.0107,\n",
       " 'sharesShortPriorMonth': 25901818,\n",
       " 'impliedSharesOutstanding': 2781760000,\n",
       " 'category': None,\n",
       " 'fiveYearAverageReturn': None,\n",
       " 'previousClose': 334.9,\n",
       " 'regularMarketOpen': 332.795,\n",
       " 'twoHundredDayAverage': 332.5163,\n",
       " 'trailingAnnualDividendYield': None,\n",
       " 'payoutRatio': 0,\n",
       " 'volume24Hr': None,\n",
       " 'regularMarketDayHigh': 337.11,\n",
       " 'navPrice': None,\n",
       " 'averageDailyVolume10Day': 22232780,\n",
       " 'regularMarketPreviousClose': 334.9,\n",
       " 'fiftyDayAverage': 330.8252,\n",
       " 'trailingAnnualDividendRate': None,\n",
       " 'open': 332.795,\n",
       " 'toCurrency': None,\n",
       " 'averageVolume10days': 22232780,\n",
       " 'expireDate': None,\n",
       " 'algorithm': None,\n",
       " 'dividendRate': None,\n",
       " 'exDividendDate': None,\n",
       " 'circulatingSupply': None,\n",
       " 'startDate': None,\n",
       " 'regularMarketDayLow': 330.75,\n",
       " 'currency': 'USD',\n",
       " 'trailingPE': 23.886503,\n",
       " 'regularMarketVolume': 40012637,\n",
       " 'lastMarket': None,\n",
       " 'maxSupply': None,\n",
       " 'openInterest': None,\n",
       " 'marketCap': 928523681792,\n",
       " 'volumeAllCurrencies': None,\n",
       " 'strikePrice': None,\n",
       " 'averageVolume': 23714376,\n",
       " 'dayLow': 330.75,\n",
       " 'ask': 335.35,\n",
       " 'askSize': 800,\n",
       " 'volume': 40012637,\n",
       " 'fiftyTwoWeekHigh': 384.33,\n",
       " 'fromCurrency': None,\n",
       " 'fiveYearAvgDividendYield': None,\n",
       " 'fiftyTwoWeekLow': 244.61,\n",
       " 'bid': 334.6,\n",
       " 'tradeable': False,\n",
       " 'dividendYield': None,\n",
       " 'bidSize': 800,\n",
       " 'dayHigh': 337.11,\n",
       " 'regularMarketPrice': 333.79,\n",
       " 'preMarketPrice': None,\n",
       " 'logo_url': 'https://logo.clearbit.com/investor.fb.com'}"
      ]
     },
     "execution_count": 5,
     "metadata": {},
     "output_type": "execute_result"
    }
   ],
   "source": [
    "stock_info"
   ]
  },
  {
   "cell_type": "markdown",
   "metadata": {},
   "source": []
  },
  {
   "cell_type": "markdown",
   "metadata": {},
   "source": [
    "# 股价与收益率分析"
   ]
  },
  {
   "cell_type": "markdown",
   "metadata": {},
   "source": [
    "## 股价走势"
   ]
  },
  {
   "cell_type": "code",
   "execution_count": 23,
   "metadata": {},
   "outputs": [
    {
     "data": {
      "text/plain": [
       "<AxesSubplot:xlabel='Date'>"
      ]
     },
     "execution_count": 23,
     "metadata": {},
     "output_type": "execute_result"
    },
    {
     "data": {
      "image/png": "[encoded data removed]",
      "text/plain": [
       "<Figure size 432x288 with 1 Axes>"
      ]
     },
     "metadata": {},
     "output_type": "display_data"
    }
   ],
   "source": [
    "sns.set()\n",
    "stcok_price_w['Close'].pct_change().plot()\n",
    "benchmark_w['Close'].pct_change().plot()"
   ]
  },
  {
   "cell_type": "markdown",
   "metadata": {},
   "source": []
  }
 ],
 "metadata": {
  "interpreter": {
   "hash": "2f70558250b2e09fb5bea9e4d53bfa1a2acfe2c395591f6a67d17254408a49b5"
  },
  "kernelspec": {
   "display_name": "Python 3.9.7 64-bit ('skydog': conda)",
   "language": "python",
   "name": "python3"
  },
  "language_info": {
   "codemirror_mode": {
    "name": "ipython",
    "version": 3
   },
   "file_extension": ".py",
   "mimetype": "text/x-python",
   "name": "python",
   "nbconvert_exporter": "python",
   "pygments_lexer": "ipython3",
   "version": "3.9.7"
  },
  "orig_nbformat": 4
 },
 "nbformat": 4,
 "nbformat_minor": 2
}
