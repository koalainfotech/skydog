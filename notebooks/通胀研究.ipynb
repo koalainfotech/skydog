{
 "cells": [
  {
   "cell_type": "markdown",
   "metadata": {},
   "source": [
    "# 大通胀时期的投资策略研究"
   ]
  },
  {
   "cell_type": "code",
   "execution_count": null,
   "metadata": {},
   "outputs": [],
   "source": [
    "#get CPI, PPI, POE data\n"
   ]
  }
 ],
 "metadata": {
  "interpreter": {
   "hash": "2f70558250b2e09fb5bea9e4d53bfa1a2acfe2c395591f6a67d17254408a49b5"
  },
  "kernelspec": {
   "display_name": "Python 3.9.7 ('skydog')",
   "language": "python",
   "name": "python3"
  },
  "language_info": {
   "name": "python",
   "version": "3.9.7"
  },
  "orig_nbformat": 4
 },
 "nbformat": 4,
 "nbformat_minor": 2
}
