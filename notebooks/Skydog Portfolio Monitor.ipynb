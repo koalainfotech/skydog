{
 "cells": [
  {
   "cell_type": "markdown",
   "metadata": {},
   "source": [
    "# Skydog 周报\n",
    "\n",
    "本Notebook分析Skydog的投资活动中每周需要关注的重要数据。\n",
    "主要关注的是风险的监控。"
   ]
  },
  {
   "cell_type": "code",
   "execution_count": null,
   "metadata": {},
   "outputs": [],
   "source": [
    "#all imports\n",
    "import pyodbc\n",
    "import pandas as pd\n",
    "import warnings\n",
    "warnings.filterwarnings('ignore')\n",
    "import yfinance as yf\n",
    "from scipy import stats\n",
    "import datetime as dt\n",
    "from matplotlib import pyplot as plt\n",
    "import seaborn as sns\n",
    "import pymssql\n",
    "\n",
    "\n",
    "#global parameters\n",
    "\n",
    "sns.set_theme(context='notebook', style='darkgrid', palette='deep', font='sans-serif', font_scale=1, color_codes=True, \n",
    "            rc={'figure.figsize':(15,10)})"
   ]
  },
  {
   "cell_type": "code",
   "execution_count": null,
   "metadata": {},
   "outputs": [],
   "source": [
    "#read data from sql server\n",
    "conn = pymssql.connect(server='port-mgr-sql.database.windows.net', user='port-mgr', password='Randomwalk2020', database='port-mgr-sql')\n",
    "sqlstr='''select portfolio,sub_type,market,asset_id,quantity,ticker,market_val_usd,company,risk_exposure_usd,[desc]\n",
    "        from portfolio_latest_holdings_vw\n",
    "        where portfolio='Skydog' or portfolio='ms_terry'\n",
    "        '''\n",
    "df=pd.read_sql(sqlstr,conn)"
   ]
  },
  {
   "cell_type": "markdown",
   "metadata": {},
   "source": [
    "## 投资组合资产配置\n",
    "\n",
    "以下是Skydog的资产配置情况。"
   ]
  },
  {
   "cell_type": "markdown",
   "metadata": {},
   "source": [
    "### 大类资产配置"
   ]
  },
  {
   "cell_type": "code",
   "execution_count": null,
   "metadata": {},
   "outputs": [],
   "source": [
    "#Long asset allocations\n",
    "df_asset_alloc=df.groupby('sub_type').agg('sum')\n",
    "df_long_alloc=df_asset_alloc[df_asset_alloc['market_val_usd']>0]\n",
    "total_long=df_long_alloc['market_val_usd'].sum()\n",
    "df_long_alloc['pct']=100*df_long_alloc['market_val_usd']/total_long\n",
    "df_long_alloc=df_long_alloc[['market_val_usd','pct']].sort_values('market_val_usd',ascending=False)\n",
    "df_long_alloc.index.name='Asset Type'\n",
    "#df_long_alloc.plot.pie(y='market_val_usd',autopct=\"%.1f%%\")\n",
    "df_long_alloc.loc['Total Long']=df_long_alloc.sum()\n",
    "df_long_alloc.style.format({\"market_val_usd\":\"${:,.0f}\",\n",
    "                          \"pct\":\"{:,.1f}%\",\n",
    "                          })"
   ]
  },
  {
   "cell_type": "code",
   "execution_count": null,
   "metadata": {},
   "outputs": [],
   "source": [
    "#Short asset allocation\n",
    "df_short_alloc=df_asset_alloc[df_asset_alloc['market_val_usd']<0]\n",
    "total_short=df_short_alloc['market_val_usd'].sum()\n",
    "df_short_alloc['pct']=100*df_short_alloc['market_val_usd']/total_short\n",
    "df_short_alloc=df_short_alloc[['market_val_usd','pct']].sort_values('market_val_usd',ascending=False)\n",
    "df_short_alloc.index.name='Asset Type'\n",
    "df_short_alloc.loc['Total Short']=df_short_alloc.sum()\n",
    "df_short_alloc.style.format({\"market_val_usd\":\"${:,.0f}\",\n",
    "                          \"pct\":\"{:,.1f}%\",\n",
    "                          })"
   ]
  },
  {
   "cell_type": "markdown",
   "metadata": {},
   "source": [
    "### 市场配置"
   ]
  },
  {
   "cell_type": "code",
   "execution_count": null,
   "metadata": {},
   "outputs": [],
   "source": [
    "#Market allocations\n",
    "df_market_alloc=df.groupby('market').agg('sum')\n",
    "total_long=df_market_alloc['market_val_usd'].sum()\n",
    "df_market_alloc['pct']=100*df_market_alloc['market_val_usd']/total_long\n",
    "df_market_alloc=df_market_alloc[['market_val_usd','pct']].sort_values('market_val_usd',ascending=False)\n",
    "df_market_alloc.index.name='Market'\n",
    "#df_long_alloc.plot.pie(y='market_val_usd',autopct=\"%.1f%%\")\n",
    "df_market_alloc.loc['Total']=df_market_alloc.sum()\n",
    "df_market_alloc.style.format({\"market_val_usd\":\"${:,.0f}\",\n",
    "                          \"pct\":\"{:,.1f}%\",\n",
    "                          })"
   ]
  },
  {
   "cell_type": "markdown",
   "metadata": {},
   "source": [
    "## 投资组合持仓\n"
   ]
  },
  {
   "cell_type": "markdown",
   "metadata": {},
   "source": [
    "### 十大风险暴露\n",
    "\n",
    "以下是Skydog基金和个Terry个人账户合计的风险暴露最大的10家公司。\n",
    "备注：\n",
    "1. 计算风险暴露的时候，现金的风险=0\n",
    "2. 计算市值占比的时候，总资产包含了现金"
   ]
  },
  {
   "cell_type": "code",
   "execution_count": null,
   "metadata": {},
   "outputs": [],
   "source": [
    "\n",
    "\n",
    "df_company=df.groupby('company').agg('sum').sort_values(by='risk_exposure_usd',ascending=False)\n",
    "total_risk=df_company.risk_exposure_usd.sum()\n",
    "total_market_value=df_company.market_val_usd.sum()\n",
    "df_company['risk_pct']=(100*df_company.risk_exposure_usd/total_risk)\n",
    "df_company['market_value_pct']=(100*df_company.market_val_usd/total_market_value)\n",
    "df_risk_exp=df_company[['risk_exposure_usd','risk_pct','market_val_usd','market_value_pct']].head(10)\n",
    "df_risk_exp.loc['Total']=df_risk_exp.sum()\n",
    "df_risk_exp.style.format({\"market_val_usd\":\"${:,.0f}\",\n",
    "                          \"risk_exposure_usd\":\"${:,.0f}\",\n",
    "                          \"risk_pct\":\"{:,.1f}%\",\n",
    "                          \"market_value_pct\":\"{:,.1f}%\",\n",
    "\n",
    "                        })"
   ]
  },
  {
   "cell_type": "markdown",
   "metadata": {},
   "source": [
    "### FCN\n",
    "\n",
    "当前持有的FCN如下："
   ]
  },
  {
   "cell_type": "code",
   "execution_count": null,
   "metadata": {},
   "outputs": [],
   "source": [
    "df_fcn=df[df['sub_type']=='FCN']\n",
    "df_fcn=df_fcn[['desc','market_val_usd']]\n",
    "df_fcn.style.format({\"market_val_usd\":\"${:,.0f}\",\n",
    "                          \n",
    "\n",
    "                        })"
   ]
  },
  {
   "cell_type": "markdown",
   "metadata": {},
   "source": [
    "### 所有持仓"
   ]
  },
  {
   "cell_type": "code",
   "execution_count": null,
   "metadata": {},
   "outputs": [],
   "source": [
    "\n",
    "\n",
    "df_company=df.groupby(['ticker']).agg('sum').sort_values(by='risk_exposure_usd',ascending=False)\n",
    "total_risk=df_company.risk_exposure_usd.sum()\n",
    "total_market_value=df_company.market_val_usd.sum()\n",
    "df_company['risk_pct']=(100*df_company.risk_exposure_usd/total_risk)\n",
    "df_company['market_value_pct']=(100*df_company.market_val_usd/total_market_value)\n",
    "df_risk_exp=df_company[['risk_exposure_usd','risk_pct','market_val_usd','market_value_pct']]\n",
    "df_risk_exp.loc['Total']=df_risk_exp.sum()\n",
    "df_risk_exp.style.format({\"market_val_usd\":\"${:,.0f}\",\n",
    "                          \"risk_exposure_usd\":\"${:,.0f}\",\n",
    "                          \"risk_pct\":\"{:,.1f}%\",\n",
    "                          \"market_value_pct\":\"{:,.1f}%\",\n",
    "\n",
    "                        })"
   ]
  },
  {
   "cell_type": "markdown",
   "metadata": {},
   "source": [
    "## 资产相关度监测"
   ]
  },
  {
   "cell_type": "markdown",
   "metadata": {},
   "source": [
    "### 核心持仓之间的相关度\n",
    "以下是当前重仓的标的之间的相关度："
   ]
  },
  {
   "cell_type": "code",
   "execution_count": null,
   "metadata": {},
   "outputs": [],
   "source": [
    "ticker_list=['0700.HK','BABA','FB','1810.HK','TME']\n",
    "df_price=pd.DataFrame()\n",
    "\n",
    "for ticker in ticker_list:\n",
    "    data=yf.download(ticker)\n",
    "    df_price[ticker]=data['Close'].dropna()\n",
    "    df_return=df_price.pct_change().dropna()\n",
    "    "
   ]
  },
  {
   "cell_type": "code",
   "execution_count": null,
   "metadata": {},
   "outputs": [],
   "source": [
    "def cal_rolling_cov(s1,s2,period):\n",
    "    start_date=s1.index[0]\n",
    "    cov=dict()\n",
    "    while start_date<s1.index.max()-dt.timedelta(days=period):\n",
    "        end_date=start_date+dt.timedelta(days=period)\n",
    "        a1=s1[start_date:end_date]\n",
    "        a2=s2[start_date:end_date]\n",
    "        cov[end_date]=stats.pearsonr(a1, a2)[0]\n",
    "        start_date=start_date+dt.timedelta(days=1)\n",
    "    cov=pd.Series(cov)\n",
    "    cov.name=s1.name+'-'+s2.name\n",
    "\n",
    "    return pd.Series(cov)\n"
   ]
  },
  {
   "cell_type": "code",
   "execution_count": null,
   "metadata": {},
   "outputs": [],
   "source": [
    "# Calculate correlations\n",
    "resample='1W'\n",
    "days=90\n",
    "\n",
    "df_price_rs=df_price.resample(resample).last()\n",
    "df_price_rs\n",
    "df_return=df_price_rs.pct_change().dropna()\n",
    "\n",
    "\n",
    "df_cov=pd.DataFrame()\n",
    "\n",
    "for ticker1 in ticker_list:\n",
    "    for ticker2 in ticker_list:\n",
    "        if ticker2+'_'+ticker1 in df_cov.columns:\n",
    "            df_cov[ticker1+'_'+ticker2]=df_cov[ticker2+'_'+ticker1]\n",
    "        else:\n",
    "            df_cov[ticker1+'_'+ticker2]=cal_rolling_cov(df_return[ticker1],df_return[ticker2],days)\n"
   ]
  },
  {
   "cell_type": "code",
   "execution_count": null,
   "metadata": {},
   "outputs": [],
   "source": [
    "pd.options.display.float_format = '{:,.2f}'.format\n",
    "df_cov_current=pd.DataFrame(index=ticker_list)\n",
    "for ticker1 in ticker_list:\n",
    "    for ticker2 in ticker_list:\n",
    "        df_cov_current.loc[ticker1,ticker2]=df_cov[ticker1+'_'+ticker2].iloc[-1]\n",
    "print('%i Days Trailling Correlation based on %s return'%(days,resample))\n",
    "df_cov_current\n"
   ]
  },
  {
   "cell_type": "code",
   "execution_count": null,
   "metadata": {},
   "outputs": [],
   "source": [
    "focus='0700.HK'\n",
    "col=[]\n",
    "for ticker in ticker_list:\n",
    "    col.append(focus+\"_\"+ticker)\n",
    "df_cov_filtered=df_cov[col]\n",
    "plot=sns.lineplot(data=df_cov_filtered.loc[dt.date.today()-dt.timedelta(days=days*10):])\n",
    "plt.title('Rolling %i Days Correlation based on %s Return'%(days,resample))"
   ]
  }
 ],
 "metadata": {
  "interpreter": {
   "hash": "3ff3a0fb59a3755e856ce5d3e173bbdf04919afeeff503ae655d3dc19401341d"
  },
  "kernelspec": {
   "display_name": "Python 3 (ipykernel)",
   "language": "python",
   "name": "python3"
  },
  "language_info": {
   "codemirror_mode": {
    "name": "ipython",
    "version": 3
   },
   "file_extension": ".py",
   "mimetype": "text/x-python",
   "name": "python",
   "nbconvert_exporter": "python",
   "pygments_lexer": "ipython3",
   "version": "3.9.7"
  }
 },
 "nbformat": 4,
 "nbformat_minor": 4
}
